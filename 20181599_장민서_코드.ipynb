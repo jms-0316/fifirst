{
  "nbformat": 4,
  "nbformat_minor": 0,
  "metadata": {
    "colab": {
      "provenance": []
    },
    "kernelspec": {
      "name": "python3",
      "display_name": "Python 3"
    },
    "language_info": {
      "name": "python"
    }
  },
  "cells": [
    {
      "cell_type": "code",
      "execution_count": 56,
      "metadata": {
        "id": "t4sMAkT3NPDZ"
      },
      "outputs": [],
      "source": [
        "%matplotlib inline\n",
        "import pandas as pd                # 데이터를 저장하고 처리하는 패키지\n",
        "import matplotlib as mpl           # 그래프를 그리는 패키지\n",
        "import matplotlib.pyplot as plt    # 그래프를 그리는 패키지"
      ]
    },
    {
      "cell_type": "code",
      "source": [
        "!sudo apt-get install -y fonts-nanum\n",
        "!sudo fc-cache -fv\n",
        "!rm ~/.cache/matplotlib -rf"
      ],
      "metadata": {
        "id": "AWYXsBxDgdL1"
      },
      "execution_count": null,
      "outputs": []
    },
    {
      "cell_type": "code",
      "source": [
        "import matplotlib.pyplot as plt\n",
        "\n",
        "plt.rc('font', family='NanumBarunGothic') "
      ],
      "metadata": {
        "id": "pwC9PQYrglRz"
      },
      "execution_count": 58,
      "outputs": []
    },
    {
      "cell_type": "code",
      "source": [
        "from google.colab import files\n",
        "myfile = files.upload()"
      ],
      "metadata": {
        "id": "y3BxT12lNQnZ"
      },
      "execution_count": null,
      "outputs": []
    },
    {
      "cell_type": "code",
      "source": [
        "df = pd.read_csv('Data.csv', encoding='euc-kr')"
      ],
      "metadata": {
        "id": "rA600K_SNZ8Z"
      },
      "execution_count": 60,
      "outputs": []
    },
    {
      "cell_type": "code",
      "source": [
        "df = df.iloc[[0,1,2,3],:]"
      ],
      "metadata": {
        "id": "vcglp0N4b10f"
      },
      "execution_count": 61,
      "outputs": []
    },
    {
      "cell_type": "code",
      "source": [
        "df"
      ],
      "metadata": {
        "colab": {
          "base_uri": "https://localhost:8080/",
          "height": 175
        },
        "id": "9hU1MmV0Nemh",
        "outputId": "d96b811d-b06f-491b-9d3d-a9b62c8c361f"
      },
      "execution_count": 62,
      "outputs": [
        {
          "output_type": "execute_result",
          "data": {
            "text/plain": [
              "  Unnamed: 0       9월      10월      11월      12월       1월       2월\n",
              "0        총매출  5280000  5501000  5469000  5480000  5533000  5554000\n",
              "1       목표매출  5280000  5500000  5729000  5968000  6217000  6476000\n",
              "2       광고비용  1056000   950400   739200   528000   316800   316800\n",
              "3   소셜네트워크비용        0   105600   316800   528000   739200   739200"
            ],
            "text/html": [
              "\n",
              "  <div id=\"df-0ce21b3e-e5ec-4b74-ae21-956223a9ac65\">\n",
              "    <div class=\"colab-df-container\">\n",
              "      <div>\n",
              "<style scoped>\n",
              "    .dataframe tbody tr th:only-of-type {\n",
              "        vertical-align: middle;\n",
              "    }\n",
              "\n",
              "    .dataframe tbody tr th {\n",
              "        vertical-align: top;\n",
              "    }\n",
              "\n",
              "    .dataframe thead th {\n",
              "        text-align: right;\n",
              "    }\n",
              "</style>\n",
              "<table border=\"1\" class=\"dataframe\">\n",
              "  <thead>\n",
              "    <tr style=\"text-align: right;\">\n",
              "      <th></th>\n",
              "      <th>Unnamed: 0</th>\n",
              "      <th>9월</th>\n",
              "      <th>10월</th>\n",
              "      <th>11월</th>\n",
              "      <th>12월</th>\n",
              "      <th>1월</th>\n",
              "      <th>2월</th>\n",
              "    </tr>\n",
              "  </thead>\n",
              "  <tbody>\n",
              "    <tr>\n",
              "      <th>0</th>\n",
              "      <td>총매출</td>\n",
              "      <td>5280000</td>\n",
              "      <td>5501000</td>\n",
              "      <td>5469000</td>\n",
              "      <td>5480000</td>\n",
              "      <td>5533000</td>\n",
              "      <td>5554000</td>\n",
              "    </tr>\n",
              "    <tr>\n",
              "      <th>1</th>\n",
              "      <td>목표매출</td>\n",
              "      <td>5280000</td>\n",
              "      <td>5500000</td>\n",
              "      <td>5729000</td>\n",
              "      <td>5968000</td>\n",
              "      <td>6217000</td>\n",
              "      <td>6476000</td>\n",
              "    </tr>\n",
              "    <tr>\n",
              "      <th>2</th>\n",
              "      <td>광고비용</td>\n",
              "      <td>1056000</td>\n",
              "      <td>950400</td>\n",
              "      <td>739200</td>\n",
              "      <td>528000</td>\n",
              "      <td>316800</td>\n",
              "      <td>316800</td>\n",
              "    </tr>\n",
              "    <tr>\n",
              "      <th>3</th>\n",
              "      <td>소셜네트워크비용</td>\n",
              "      <td>0</td>\n",
              "      <td>105600</td>\n",
              "      <td>316800</td>\n",
              "      <td>528000</td>\n",
              "      <td>739200</td>\n",
              "      <td>739200</td>\n",
              "    </tr>\n",
              "  </tbody>\n",
              "</table>\n",
              "</div>\n",
              "      <button class=\"colab-df-convert\" onclick=\"convertToInteractive('df-0ce21b3e-e5ec-4b74-ae21-956223a9ac65')\"\n",
              "              title=\"Convert this dataframe to an interactive table.\"\n",
              "              style=\"display:none;\">\n",
              "        \n",
              "  <svg xmlns=\"http://www.w3.org/2000/svg\" height=\"24px\"viewBox=\"0 0 24 24\"\n",
              "       width=\"24px\">\n",
              "    <path d=\"M0 0h24v24H0V0z\" fill=\"none\"/>\n",
              "    <path d=\"M18.56 5.44l.94 2.06.94-2.06 2.06-.94-2.06-.94-.94-2.06-.94 2.06-2.06.94zm-11 1L8.5 8.5l.94-2.06 2.06-.94-2.06-.94L8.5 2.5l-.94 2.06-2.06.94zm10 10l.94 2.06.94-2.06 2.06-.94-2.06-.94-.94-2.06-.94 2.06-2.06.94z\"/><path d=\"M17.41 7.96l-1.37-1.37c-.4-.4-.92-.59-1.43-.59-.52 0-1.04.2-1.43.59L10.3 9.45l-7.72 7.72c-.78.78-.78 2.05 0 2.83L4 21.41c.39.39.9.59 1.41.59.51 0 1.02-.2 1.41-.59l7.78-7.78 2.81-2.81c.8-.78.8-2.07 0-2.86zM5.41 20L4 18.59l7.72-7.72 1.47 1.35L5.41 20z\"/>\n",
              "  </svg>\n",
              "      </button>\n",
              "      \n",
              "  <style>\n",
              "    .colab-df-container {\n",
              "      display:flex;\n",
              "      flex-wrap:wrap;\n",
              "      gap: 12px;\n",
              "    }\n",
              "\n",
              "    .colab-df-convert {\n",
              "      background-color: #E8F0FE;\n",
              "      border: none;\n",
              "      border-radius: 50%;\n",
              "      cursor: pointer;\n",
              "      display: none;\n",
              "      fill: #1967D2;\n",
              "      height: 32px;\n",
              "      padding: 0 0 0 0;\n",
              "      width: 32px;\n",
              "    }\n",
              "\n",
              "    .colab-df-convert:hover {\n",
              "      background-color: #E2EBFA;\n",
              "      box-shadow: 0px 1px 2px rgba(60, 64, 67, 0.3), 0px 1px 3px 1px rgba(60, 64, 67, 0.15);\n",
              "      fill: #174EA6;\n",
              "    }\n",
              "\n",
              "    [theme=dark] .colab-df-convert {\n",
              "      background-color: #3B4455;\n",
              "      fill: #D2E3FC;\n",
              "    }\n",
              "\n",
              "    [theme=dark] .colab-df-convert:hover {\n",
              "      background-color: #434B5C;\n",
              "      box-shadow: 0px 1px 3px 1px rgba(0, 0, 0, 0.15);\n",
              "      filter: drop-shadow(0px 1px 2px rgba(0, 0, 0, 0.3));\n",
              "      fill: #FFFFFF;\n",
              "    }\n",
              "  </style>\n",
              "\n",
              "      <script>\n",
              "        const buttonEl =\n",
              "          document.querySelector('#df-0ce21b3e-e5ec-4b74-ae21-956223a9ac65 button.colab-df-convert');\n",
              "        buttonEl.style.display =\n",
              "          google.colab.kernel.accessAllowed ? 'block' : 'none';\n",
              "\n",
              "        async function convertToInteractive(key) {\n",
              "          const element = document.querySelector('#df-0ce21b3e-e5ec-4b74-ae21-956223a9ac65');\n",
              "          const dataTable =\n",
              "            await google.colab.kernel.invokeFunction('convertToInteractive',\n",
              "                                                     [key], {});\n",
              "          if (!dataTable) return;\n",
              "\n",
              "          const docLinkHtml = 'Like what you see? Visit the ' +\n",
              "            '<a target=\"_blank\" href=https://colab.research.google.com/notebooks/data_table.ipynb>data table notebook</a>'\n",
              "            + ' to learn more about interactive tables.';\n",
              "          element.innerHTML = '';\n",
              "          dataTable['output_type'] = 'display_data';\n",
              "          await google.colab.output.renderOutput(dataTable, element);\n",
              "          const docLink = document.createElement('div');\n",
              "          docLink.innerHTML = docLinkHtml;\n",
              "          element.appendChild(docLink);\n",
              "        }\n",
              "      </script>\n",
              "    </div>\n",
              "  </div>\n",
              "  "
            ]
          },
          "metadata": {},
          "execution_count": 62
        }
      ]
    },
    {
      "cell_type": "code",
      "source": [
        "df.info()"
      ],
      "metadata": {
        "colab": {
          "base_uri": "https://localhost:8080/"
        },
        "id": "FZa9T0vbNrvA",
        "outputId": "2ad354e1-3135-4da1-fbac-06df1ab27bc0"
      },
      "execution_count": 63,
      "outputs": [
        {
          "output_type": "stream",
          "name": "stdout",
          "text": [
            "<class 'pandas.core.frame.DataFrame'>\n",
            "Int64Index: 4 entries, 0 to 3\n",
            "Data columns (total 7 columns):\n",
            " #   Column      Non-Null Count  Dtype \n",
            "---  ------      --------------  ----- \n",
            " 0   Unnamed: 0  4 non-null      object\n",
            " 1   9월          4 non-null      object\n",
            " 2   10월         4 non-null      object\n",
            " 3   11월         4 non-null      object\n",
            " 4   12월         4 non-null      object\n",
            " 5   1월          4 non-null      object\n",
            " 6   2월          4 non-null      object\n",
            "dtypes: object(7)\n",
            "memory usage: 256.0+ bytes\n"
          ]
        }
      ]
    },
    {
      "cell_type": "code",
      "source": [
        "df = df.astype({'9월':'int'})\n",
        "df = df.astype({'10월':'int'})\n",
        "df = df.astype({'11월':'int'})\n",
        "df = df.astype({'12월':'int'})\n",
        "df = df.astype({'1월':'int'})\n",
        "df = df.astype({'2월':'int'})"
      ],
      "metadata": {
        "id": "UmZT4Q54cl-H"
      },
      "execution_count": 64,
      "outputs": []
    },
    {
      "cell_type": "code",
      "source": [
        "Month = [\"9월\",\"10월\",\"11월\",\"12월\",\"1월\",\"2월\"]"
      ],
      "metadata": {
        "id": "8ZRRQmxYezZ0"
      },
      "execution_count": 65,
      "outputs": []
    },
    {
      "cell_type": "code",
      "source": [
        "Sales = []\n",
        "for element in df.values[0]:\n",
        "  Sales.append(element)\n",
        "\n",
        "Sales1 =  []\n",
        "Sales1 = Sales[1:]"
      ],
      "metadata": {
        "id": "g46ypSTXd9Zv"
      },
      "execution_count": 66,
      "outputs": []
    },
    {
      "cell_type": "code",
      "source": [
        "Goal = []\n",
        "for element in df.values[1]:\n",
        "  Goal.append(element)\n",
        "\n",
        "Goal1 =  []\n",
        "Goal1 = Goal[1:]"
      ],
      "metadata": {
        "id": "-jTElD7bhytB"
      },
      "execution_count": 67,
      "outputs": []
    },
    {
      "cell_type": "code",
      "source": [
        "Adv = []\n",
        "for element in df.values[2]:\n",
        "  Adv.append(element)\n",
        "\n",
        "Adv1 =  []\n",
        "Adv1 = Adv[1:]"
      ],
      "metadata": {
        "id": "C0ZpCfqXiCHp"
      },
      "execution_count": 68,
      "outputs": []
    },
    {
      "cell_type": "code",
      "source": [
        "Social = []\n",
        "for element in df.values[3]:\n",
        "  Social.append(element)\n",
        "\n",
        "Social1 =  []\n",
        "Social1 = Social[1:]"
      ],
      "metadata": {
        "id": "E4tTJOyHiV89"
      },
      "execution_count": 69,
      "outputs": []
    },
    {
      "cell_type": "code",
      "source": [
        "plt.plot(Month,Sales1,label='총매출')   \n",
        "plt.title('총매출추이')\n",
        "plt.legend()"
      ],
      "metadata": {
        "colab": {
          "base_uri": "https://localhost:8080/",
          "height": 298
        },
        "id": "pHl4wUuafgTl",
        "outputId": "572c63fa-0d16-4d04-a009-82a8cf7be9aa"
      },
      "execution_count": 70,
      "outputs": [
        {
          "output_type": "execute_result",
          "data": {
            "text/plain": [
              "<matplotlib.legend.Legend at 0x7fefc22c5b50>"
            ]
          },
          "metadata": {},
          "execution_count": 70
        },
        {
          "output_type": "display_data",
          "data": {
            "text/plain": [
              "<Figure size 432x288 with 1 Axes>"
            ],
            "image/png": "[encoded data removed]"
          },
          "metadata": {
            "needs_background": "light"
          }
        }
      ]
    },
    {
      "cell_type": "code",
      "source": [
        "plt.plot(Month,Sales1,label='총매출')\n",
        "plt.plot(Month,Goal1,label='목표매출')   \n",
        "plt.title('총매출과 목표매출 추이')\n",
        "plt.legend()"
      ],
      "metadata": {
        "colab": {
          "base_uri": "https://localhost:8080/",
          "height": 298
        },
        "id": "tzqERblghnLr",
        "outputId": "900a2f9b-46ba-4b98-d87e-58eb431e569e"
      },
      "execution_count": 71,
      "outputs": [
        {
          "output_type": "execute_result",
          "data": {
            "text/plain": [
              "<matplotlib.legend.Legend at 0x7fefc22e88e0>"
            ]
          },
          "metadata": {},
          "execution_count": 71
        },
        {
          "output_type": "display_data",
          "data": {
            "text/plain": [
              "<Figure size 432x288 with 1 Axes>"
            ],
            "image/png": "[encoded data removed]"
          },
          "metadata": {
            "needs_background": "light"
          }
        }
      ]
    },
    {
      "cell_type": "code",
      "source": [
        "plt.plot(Month,Adv1,label='광고비용')\n",
        "plt.plot(Month,Social1,label='소셜네트워크비용')   \n",
        "plt.title('광고비용과 소셜네트워크비용 추이')\n",
        "plt.legend()"
      ],
      "metadata": {
        "colab": {
          "base_uri": "https://localhost:8080/",
          "height": 298
        },
        "id": "c3VhYqf7itqK",
        "outputId": "b935bdf2-fa76-4425-abb5-403a0b8e5e93"
      },
      "execution_count": 72,
      "outputs": [
        {
          "output_type": "execute_result",
          "data": {
            "text/plain": [
              "<matplotlib.legend.Legend at 0x7fefc2263f40>"
            ]
          },
          "metadata": {},
          "execution_count": 72
        },
        {
          "output_type": "display_data",
          "data": {
            "text/plain": [
              "<Figure size 432x288 with 1 Axes>"
            ],
            "image/png": "[encoded data removed]"
          },
          "metadata": {
            "needs_background": "light"
          }
        }
      ]
    }
  ]
}